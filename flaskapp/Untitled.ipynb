{
 "cells": [
  {
   "cell_type": "code",
   "execution_count": 2,
   "metadata": {},
   "outputs": [],
   "source": [
    "import os\n",
    "import pandas as pd\n",
    "import glob\n",
    "import numpy as np"
   ]
  },
  {
   "cell_type": "code",
   "execution_count": 3,
   "metadata": {},
   "outputs": [],
   "source": [
    "path = '../data'\n",
    "body_parts = ['Shoulder', 'Humerus', 'Finger', 'Elbow', 'Wrist', 'Forearm', 'Hand']\n",
    "models =  ['Model'+str(i) for i in np.arange(1,17)]\n",
    "filename = 'abnormal_results.csv'"
   ]
  },
  {
   "cell_type": "code",
   "execution_count": 4,
   "metadata": {},
   "outputs": [],
   "source": [
    "data = {}\n",
    "for part in body_parts:\n",
    "    for model in models:\n",
    "        pathname = os.path.join(path, part, model, filename)\n",
    "        data[part+'_'+model] = pd.read_csv(pathname)"
   ]
  },
  {
   "cell_type": "code",
   "execution_count": 13,
   "metadata": {},
   "outputs": [],
   "source": [
    "#json for body-part classification\n",
    "#get single model form all body parts to extract the classification results for Alex net\n",
    "\n",
    "#color encoding for body parts\n",
    "color = [\"#d73027\", \"#fc8d59\", \"#fee090\", \"#ffffbf\", \"e0f3f8\", \"91bfdb\", \"4575b4\", \"#999999\"]\n",
    "links = []\n",
    "nodes = [{'name' : 'Input',\n",
    "         'color' : color[7]}]\n",
    "for i, df in enumerate(data.values()):\n",
    "    if i%16 != 0:\n",
    "        continue\n",
    "    pred_label = df.Body_Prediction[0]\n",
    "    label_counts = df.Body_Label.value_counts()\n",
    "    accuracy = np.sum(df.Body_Prediction == df.Body_Label)/df.shape[0]\n",
    "    #construct node dictionary of form {\"name\":\"Elbow\", \"color\": \"#d73027\", \"accuracy\": 0.9}\n",
    "    nodes.extend([{'name' : body_parts[pred_label],\n",
    "             'color' : color[pred_label],\n",
    "             'accuracy' : accuracy}])\n",
    "    #construct link dictionary of form{\"source\":0,\"target\":1,\"value\":1, \"count\": 10, \"color\": \"#d73027\"}\n",
    "    links.extend([{'source' : 0,\n",
    "      'target' : pred_label+1,\n",
    "      'value' : 1,\n",
    "      'count' : label_counts[label],\n",
    "      'color' : color[label]\n",
    "    }for label in label_counts.keys()])"
   ]
  },
  {
   "cell_type": "code",
   "execution_count": 20,
   "metadata": {},
   "outputs": [
    {
     "data": {
      "text/plain": [
       "numpy.int64"
      ]
     },
     "execution_count": 20,
     "metadata": {},
     "output_type": "execute_result"
    }
   ],
   "source": [
    "type(data['Hand_Model1'].Body_Label.value_counts()[2])"
   ]
  },
  {
   "cell_type": "code",
   "execution_count": 21,
   "metadata": {},
   "outputs": [
    {
     "data": {
      "text/plain": [
       "6"
      ]
     },
     "execution_count": 21,
     "metadata": {},
     "output_type": "execute_result"
    }
   ],
   "source": [
    "body_parts.index('Hand')"
   ]
  },
  {
   "cell_type": "code",
   "execution_count": null,
   "metadata": {},
   "outputs": [],
   "source": []
  }
 ],
 "metadata": {
  "kernelspec": {
   "display_name": "Python 3",
   "language": "python",
   "name": "python3"
  },
  "language_info": {
   "codemirror_mode": {
    "name": "ipython",
    "version": 3
   },
   "file_extension": ".py",
   "mimetype": "text/x-python",
   "name": "python",
   "nbconvert_exporter": "python",
   "pygments_lexer": "ipython3",
   "version": "3.6.6"
  }
 },
 "nbformat": 4,
 "nbformat_minor": 2
}
